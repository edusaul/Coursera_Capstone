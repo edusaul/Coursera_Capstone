{
 "cells": [
  {
   "cell_type": "markdown",
   "metadata": {},
   "source": [
    "# Segmenting and Clustering Neighborhoods in Toronto"
   ]
  },
  {
   "cell_type": "markdown",
   "metadata": {},
   "source": [
    "Loading libraries"
   ]
  },
  {
   "cell_type": "markdown",
   "metadata": {},
   "source": [
    "## First part: Download the data"
   ]
  },
  {
   "cell_type": "code",
   "execution_count": 1,
   "metadata": {},
   "outputs": [],
   "source": [
    "from bs4 import BeautifulSoup\n",
    "import requests\n",
    "import numpy as np \n",
    "import pandas as pd"
   ]
  },
  {
   "cell_type": "markdown",
   "metadata": {},
   "source": [
    "Download the Wikipwdia page and find the table with the data"
   ]
  },
  {
   "cell_type": "code",
   "execution_count": 2,
   "metadata": {},
   "outputs": [],
   "source": [
    "source = requests.get('https://en.wikipedia.org/wiki/List_of_postal_codes_of_Canada:_M').text\n",
    "soup = BeautifulSoup(source, 'lxml')\n",
    "\n",
    "table = soup.find('table')"
   ]
  },
  {
   "cell_type": "markdown",
   "metadata": {},
   "source": [
    "Get the names of the columns from the first row of the table"
   ]
  },
  {
   "cell_type": "code",
   "execution_count": 3,
   "metadata": {},
   "outputs": [
    {
     "name": "stdout",
     "output_type": "stream",
     "text": [
      "['Postcode', 'Borough', 'Neighbourhood']\n"
     ]
    }
   ],
   "source": [
    "headline = table.tbody.tr.text\n",
    "headline = headline.split('\\n')\n",
    "while('' in headline) :\n",
    "    headline.remove('') \n",
    "print(headline)"
   ]
  },
  {
   "cell_type": "markdown",
   "metadata": {},
   "source": [
    "Get all the rows in the table and store in a numpy array, ignoring the \"Not assigned\" ones"
   ]
  },
  {
   "cell_type": "code",
   "execution_count": 4,
   "metadata": {},
   "outputs": [],
   "source": [
    "data_table=np.array(headline)\n",
    "\n",
    "for element in table.find_all('tr') [1:]:\n",
    "    columns = element.find_all('td')\n",
    "    el=[]\n",
    "    for i, column in enumerate(columns, start=0):\n",
    "        el.append(column.get_text().strip('\\n'))\n",
    "        #print(i,el)\n",
    "    #print(el)\n",
    "    if(el[1] != 'Not assigned') :\n",
    "        data_table=np.vstack((data_table,el))"
   ]
  },
  {
   "cell_type": "markdown",
   "metadata": {},
   "source": [
    "Create a pandas dataframe from the numpy array"
   ]
  },
  {
   "cell_type": "code",
   "execution_count": 5,
   "metadata": {},
   "outputs": [
    {
     "data": {
      "text/html": [
       "<div>\n",
       "<style scoped>\n",
       "    .dataframe tbody tr th:only-of-type {\n",
       "        vertical-align: middle;\n",
       "    }\n",
       "\n",
       "    .dataframe tbody tr th {\n",
       "        vertical-align: top;\n",
       "    }\n",
       "\n",
       "    .dataframe thead th {\n",
       "        text-align: right;\n",
       "    }\n",
       "</style>\n",
       "<table border=\"1\" class=\"dataframe\">\n",
       "  <thead>\n",
       "    <tr style=\"text-align: right;\">\n",
       "      <th></th>\n",
       "      <th>Postal Code</th>\n",
       "      <th>Borough</th>\n",
       "      <th>Neighbourhood</th>\n",
       "    </tr>\n",
       "  </thead>\n",
       "  <tbody>\n",
       "    <tr>\n",
       "      <th>0</th>\n",
       "      <td>M3A</td>\n",
       "      <td>North York</td>\n",
       "      <td>Parkwoods</td>\n",
       "    </tr>\n",
       "    <tr>\n",
       "      <th>1</th>\n",
       "      <td>M4A</td>\n",
       "      <td>North York</td>\n",
       "      <td>Victoria Village</td>\n",
       "    </tr>\n",
       "    <tr>\n",
       "      <th>2</th>\n",
       "      <td>M5A</td>\n",
       "      <td>Downtown Toronto</td>\n",
       "      <td>Harbourfront</td>\n",
       "    </tr>\n",
       "    <tr>\n",
       "      <th>3</th>\n",
       "      <td>M5A</td>\n",
       "      <td>Downtown Toronto</td>\n",
       "      <td>Regent Park</td>\n",
       "    </tr>\n",
       "    <tr>\n",
       "      <th>4</th>\n",
       "      <td>M6A</td>\n",
       "      <td>North York</td>\n",
       "      <td>Lawrence Heights</td>\n",
       "    </tr>\n",
       "  </tbody>\n",
       "</table>\n",
       "</div>"
      ],
      "text/plain": [
       "  Postal Code           Borough     Neighbourhood\n",
       "0         M3A        North York         Parkwoods\n",
       "1         M4A        North York  Victoria Village\n",
       "2         M5A  Downtown Toronto      Harbourfront\n",
       "3         M5A  Downtown Toronto       Regent Park\n",
       "4         M6A        North York  Lawrence Heights"
      ]
     },
     "execution_count": 5,
     "metadata": {},
     "output_type": "execute_result"
    }
   ],
   "source": [
    "df=pd.DataFrame(data=data_table[1:,0:],\n",
    "                  columns=data_table[0,0:])\n",
    "df=df.rename(columns={'Postcode':'Postal Code'})\n",
    "df.head()"
   ]
  },
  {
   "cell_type": "markdown",
   "metadata": {},
   "source": [
    "Shape of the dataframe"
   ]
  },
  {
   "cell_type": "code",
   "execution_count": 6,
   "metadata": {},
   "outputs": [
    {
     "data": {
      "text/plain": [
       "(211, 3)"
      ]
     },
     "execution_count": 6,
     "metadata": {},
     "output_type": "execute_result"
    }
   ],
   "source": [
    "df.shape"
   ]
  },
  {
   "cell_type": "markdown",
   "metadata": {},
   "source": [
    "## Second part: geolocalization"
   ]
  },
  {
   "cell_type": "markdown",
   "metadata": {},
   "source": [
    "Download the csv file with the geospatial data"
   ]
  },
  {
   "cell_type": "code",
   "execution_count": 7,
   "metadata": {},
   "outputs": [
    {
     "name": "stdout",
     "output_type": "stream",
     "text": [
      "--2019-05-20 18:11:26--  https://cocl.us/Geospatial_data/Geospatial_Coordinates.csv\n",
      "Resolving cocl.us (cocl.us)... 169.48.113.201\n",
      "Connecting to cocl.us (cocl.us)|169.48.113.201|:443... connected.\n",
      "HTTP request sent, awaiting response... 301 Moved Permanently\n",
      "Location: https://ibm.box.com/shared/static/9afzr83pps4pwf2smjjcf1y5mvgb18rr.csv [following]\n",
      "--2019-05-20 18:11:27--  https://ibm.box.com/shared/static/9afzr83pps4pwf2smjjcf1y5mvgb18rr.csv\n",
      "Resolving ibm.box.com (ibm.box.com)... 107.152.24.197, 107.152.25.197\n",
      "Connecting to ibm.box.com (ibm.box.com)|107.152.24.197|:443... connected.\n",
      "HTTP request sent, awaiting response... 301 Moved Permanently\n",
      "Location: /public/static/9afzr83pps4pwf2smjjcf1y5mvgb18rr.csv [following]\n",
      "--2019-05-20 18:11:28--  https://ibm.box.com/public/static/9afzr83pps4pwf2smjjcf1y5mvgb18rr.csv\n",
      "Reusing existing connection to ibm.box.com:443.\n",
      "HTTP request sent, awaiting response... 301 Moved Permanently\n",
      "Location: https://ibm.ent.box.com/public/static/9afzr83pps4pwf2smjjcf1y5mvgb18rr.csv [following]\n",
      "--2019-05-20 18:11:28--  https://ibm.ent.box.com/public/static/9afzr83pps4pwf2smjjcf1y5mvgb18rr.csv\n",
      "Resolving ibm.ent.box.com (ibm.ent.box.com)... 107.152.27.211\n",
      "Connecting to ibm.ent.box.com (ibm.ent.box.com)|107.152.27.211|:443... connected.\n",
      "HTTP request sent, awaiting response... 302 Found\n",
      "Location: https://public.boxcloud.com/d/1/b1!gFJcnKEKDO6I5bDrDMGp4uIGZbey6sQjsVH8ggkuOnDUc6T2vO-N9wyguHPgbKNLWKEYrng2s-clZcnhdr0gt9S7FWFUidg-JFpWZBPzvvPGeg24wspeslJO1lIgt-Gz__p31YFFDQlSsajbjbsIRQXXy8LtViNJnmLPnxfuqnNxcLUJ0Fb95OrxqT6nq5glk6udpnVn_RPjsiuf-OZySNqD7hHeKnjP2FNv1GP86RixpdsQW3gw4-KD0WYFSYLmZxvKCMvWqw_wFnk4v5aRtoOQkcGNbJu3-yv4a71Unww5BqKJmyjnzR6KXJ0YTfahDwgRCpler7MtbJUhGrj-GyS0dwpPoC0Z7UxHtj3439uy9sj_NSvnz6S79cjWkApJ9VHSveIL_2pkE80QZQoS7UO97jYlMuaQm-AjOW4PB5UT8eCbjBuSN2NPR5owuxRGhaFp6_nIwJvbtwku3Wi5vakuyob64wrC7drngiaHxh9tMeJ8jq5K1vtXOrFhLn_bjAavFFr8FVc3f6BCWX7sxageMSSY1AGR-j6C6xP60dKIrPxvT0zdMqGttdNaprmcOk2GvYjK3ljW_cnDLBMySRAuEYLmVpS_R829mqg_-29MQigBDZUZC7UygA8qTKTR2p73sGwjKOt1j35G9a00TWeD23zSEp4OMzmNM23xeJjfsayRF5bsSyfLjZP_ZBZwKDgMt0WESswuovRxyY0qfqG8f0C4XKWMl3NVk0k7b-TRXG_NXd18skRre_N9bnshKoGq77xnRtlj6HLemXFWJZwHiXIm8TunyJIhiQU6pXuz7RnP8ZtQZQTZgM6Z6vJRvqiF8kHQfATs6Dwu18GSPwHfHveMgms6wuV6L6k8Lc6KLny4EuEbBu_6h69vjuAC4fxvxYFrx_V4l3ILMLjKbfEIGxTgRNubyhEIaP6Hakn_QThngdoQk4WTn5iQVL3QD4zWiW3hNblJIsgdPJibfmCNUPpjTPlPzeKHrcOlnrRftBx_5pwNzC7520SQq04UsF1YbL2MfFNd1T-d9MnPg4RewKOAKJRJBocF3dpDAkJKVHR83Tn99B9s9yIfXetymeWHt6KN03O0PoBVthPlJ9MK9l8AlMaKHmmdK7xu4URZto13pkST-7txobEMA24aLv-1nIYcbEL8iyETfeSm37iwNiWBjU0jE0XC4A8EWrtz1RVPJMdpcw2bG3NWrDqN7-a5TuAxwptTZ4QGS_XMDAUp4CJAjG3f4b4j6cGhqjJxp08Zlzztl9JmEuh05hlbPtr03EVC3QZexjraD284OMZO3-L0BdpFOiWWEy4FEAaC9SReyfgI_kuPmmnzIWRbp6S5jKnFr0lvWLcBrWManeBLSPPJaxkrR-_DN8n1X710uDlmcX75y1d26J4./download [following]\n",
      "--2019-05-20 18:11:28--  https://public.boxcloud.com/d/1/b1!gFJcnKEKDO6I5bDrDMGp4uIGZbey6sQjsVH8ggkuOnDUc6T2vO-N9wyguHPgbKNLWKEYrng2s-clZcnhdr0gt9S7FWFUidg-JFpWZBPzvvPGeg24wspeslJO1lIgt-Gz__p31YFFDQlSsajbjbsIRQXXy8LtViNJnmLPnxfuqnNxcLUJ0Fb95OrxqT6nq5glk6udpnVn_RPjsiuf-OZySNqD7hHeKnjP2FNv1GP86RixpdsQW3gw4-KD0WYFSYLmZxvKCMvWqw_wFnk4v5aRtoOQkcGNbJu3-yv4a71Unww5BqKJmyjnzR6KXJ0YTfahDwgRCpler7MtbJUhGrj-GyS0dwpPoC0Z7UxHtj3439uy9sj_NSvnz6S79cjWkApJ9VHSveIL_2pkE80QZQoS7UO97jYlMuaQm-AjOW4PB5UT8eCbjBuSN2NPR5owuxRGhaFp6_nIwJvbtwku3Wi5vakuyob64wrC7drngiaHxh9tMeJ8jq5K1vtXOrFhLn_bjAavFFr8FVc3f6BCWX7sxageMSSY1AGR-j6C6xP60dKIrPxvT0zdMqGttdNaprmcOk2GvYjK3ljW_cnDLBMySRAuEYLmVpS_R829mqg_-29MQigBDZUZC7UygA8qTKTR2p73sGwjKOt1j35G9a00TWeD23zSEp4OMzmNM23xeJjfsayRF5bsSyfLjZP_ZBZwKDgMt0WESswuovRxyY0qfqG8f0C4XKWMl3NVk0k7b-TRXG_NXd18skRre_N9bnshKoGq77xnRtlj6HLemXFWJZwHiXIm8TunyJIhiQU6pXuz7RnP8ZtQZQTZgM6Z6vJRvqiF8kHQfATs6Dwu18GSPwHfHveMgms6wuV6L6k8Lc6KLny4EuEbBu_6h69vjuAC4fxvxYFrx_V4l3ILMLjKbfEIGxTgRNubyhEIaP6Hakn_QThngdoQk4WTn5iQVL3QD4zWiW3hNblJIsgdPJibfmCNUPpjTPlPzeKHrcOlnrRftBx_5pwNzC7520SQq04UsF1YbL2MfFNd1T-d9MnPg4RewKOAKJRJBocF3dpDAkJKVHR83Tn99B9s9yIfXetymeWHt6KN03O0PoBVthPlJ9MK9l8AlMaKHmmdK7xu4URZto13pkST-7txobEMA24aLv-1nIYcbEL8iyETfeSm37iwNiWBjU0jE0XC4A8EWrtz1RVPJMdpcw2bG3NWrDqN7-a5TuAxwptTZ4QGS_XMDAUp4CJAjG3f4b4j6cGhqjJxp08Zlzztl9JmEuh05hlbPtr03EVC3QZexjraD284OMZO3-L0BdpFOiWWEy4FEAaC9SReyfgI_kuPmmnzIWRbp6S5jKnFr0lvWLcBrWManeBLSPPJaxkrR-_DN8n1X710uDlmcX75y1d26J4./download\n",
      "Resolving public.boxcloud.com (public.boxcloud.com)... 107.152.27.200, 107.152.26.200\n",
      "Connecting to public.boxcloud.com (public.boxcloud.com)|107.152.27.200|:443... connected.\n",
      "HTTP request sent, awaiting response... 200 OK\n",
      "Length: 2891 (2.8K) [text/csv]\n",
      "Saving to: ‘Geospatial_Coordinates.csv’\n",
      "\n",
      "Geospatial_Coordina 100%[===================>]   2.82K  --.-KB/s    in 0s      \n",
      "\n",
      "2019-05-20 18:11:29 (54.6 MB/s) - ‘Geospatial_Coordinates.csv’ saved [2891/2891]\n",
      "\n"
     ]
    }
   ],
   "source": [
    "!wget -O Geospatial_Coordinates.csv https://cocl.us/Geospatial_data/Geospatial_Coordinates.csv"
   ]
  },
  {
   "cell_type": "code",
   "execution_count": 8,
   "metadata": {},
   "outputs": [],
   "source": [
    "geo_data = pd.read_csv(\"Geospatial_Coordinates.csv\", delimiter=\",\")"
   ]
  },
  {
   "cell_type": "markdown",
   "metadata": {},
   "source": [
    "Create a pandas data frame with the geospacial data"
   ]
  },
  {
   "cell_type": "code",
   "execution_count": 9,
   "metadata": {},
   "outputs": [
    {
     "data": {
      "text/html": [
       "<div>\n",
       "<style scoped>\n",
       "    .dataframe tbody tr th:only-of-type {\n",
       "        vertical-align: middle;\n",
       "    }\n",
       "\n",
       "    .dataframe tbody tr th {\n",
       "        vertical-align: top;\n",
       "    }\n",
       "\n",
       "    .dataframe thead th {\n",
       "        text-align: right;\n",
       "    }\n",
       "</style>\n",
       "<table border=\"1\" class=\"dataframe\">\n",
       "  <thead>\n",
       "    <tr style=\"text-align: right;\">\n",
       "      <th></th>\n",
       "      <th>Postal Code</th>\n",
       "      <th>Borough</th>\n",
       "      <th>Neighbourhood</th>\n",
       "      <th>Latitude</th>\n",
       "      <th>Longitude</th>\n",
       "    </tr>\n",
       "  </thead>\n",
       "  <tbody>\n",
       "    <tr>\n",
       "      <th>0</th>\n",
       "      <td>M3A</td>\n",
       "      <td>North York</td>\n",
       "      <td>Parkwoods</td>\n",
       "      <td>43.753259</td>\n",
       "      <td>-79.329656</td>\n",
       "    </tr>\n",
       "    <tr>\n",
       "      <th>1</th>\n",
       "      <td>M4A</td>\n",
       "      <td>North York</td>\n",
       "      <td>Victoria Village</td>\n",
       "      <td>43.725882</td>\n",
       "      <td>-79.315572</td>\n",
       "    </tr>\n",
       "    <tr>\n",
       "      <th>2</th>\n",
       "      <td>M5A</td>\n",
       "      <td>Downtown Toronto</td>\n",
       "      <td>Harbourfront</td>\n",
       "      <td>43.654260</td>\n",
       "      <td>-79.360636</td>\n",
       "    </tr>\n",
       "    <tr>\n",
       "      <th>3</th>\n",
       "      <td>M5A</td>\n",
       "      <td>Downtown Toronto</td>\n",
       "      <td>Regent Park</td>\n",
       "      <td>43.654260</td>\n",
       "      <td>-79.360636</td>\n",
       "    </tr>\n",
       "    <tr>\n",
       "      <th>4</th>\n",
       "      <td>M6A</td>\n",
       "      <td>North York</td>\n",
       "      <td>Lawrence Heights</td>\n",
       "      <td>43.718518</td>\n",
       "      <td>-79.464763</td>\n",
       "    </tr>\n",
       "  </tbody>\n",
       "</table>\n",
       "</div>"
      ],
      "text/plain": [
       "  Postal Code           Borough     Neighbourhood   Latitude  Longitude\n",
       "0         M3A        North York         Parkwoods  43.753259 -79.329656\n",
       "1         M4A        North York  Victoria Village  43.725882 -79.315572\n",
       "2         M5A  Downtown Toronto      Harbourfront  43.654260 -79.360636\n",
       "3         M5A  Downtown Toronto       Regent Park  43.654260 -79.360636\n",
       "4         M6A        North York  Lawrence Heights  43.718518 -79.464763"
      ]
     },
     "execution_count": 9,
     "metadata": {},
     "output_type": "execute_result"
    }
   ],
   "source": [
    "df_with_geo = pd.merge(df,geo_data, on='Postal Code')\n",
    "df_with_geo.head()"
   ]
  },
  {
   "cell_type": "markdown",
   "metadata": {},
   "source": [
    "Merge the geospacial data with the previous dataframe"
   ]
  },
  {
   "cell_type": "code",
   "execution_count": null,
   "metadata": {},
   "outputs": [],
   "source": []
  }
 ],
 "metadata": {
  "kernelspec": {
   "display_name": "Python 3",
   "language": "python",
   "name": "python3"
  },
  "language_info": {
   "codemirror_mode": {
    "name": "ipython",
    "version": 3
   },
   "file_extension": ".py",
   "mimetype": "text/x-python",
   "name": "python",
   "nbconvert_exporter": "python",
   "pygments_lexer": "ipython3",
   "version": "3.6.8"
  }
 },
 "nbformat": 4,
 "nbformat_minor": 2
}
